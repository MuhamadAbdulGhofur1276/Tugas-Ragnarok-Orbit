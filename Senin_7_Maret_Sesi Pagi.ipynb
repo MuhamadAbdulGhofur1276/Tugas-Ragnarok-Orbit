{
 "cells": [
  {
   "cell_type": "markdown",
   "id": "exact-national",
   "metadata": {},
   "source": [
    "## Kelas Burung"
   ]
  },
  {
   "cell_type": "code",
   "execution_count": 1,
   "id": "aquatic-truth",
   "metadata": {},
   "outputs": [
    {
     "name": "stdout",
     "output_type": "stream",
     "text": [
      "===== Info Burung =====\n",
      "\n",
      "nama\t: Rio\n",
      "usia\t: 2 tahun\n",
      "warna\t: Biru tua\n",
      "jenis\t: Makaw Biru\n",
      "peaaaakkkk... \n",
      "\n",
      "=====================\n"
     ]
    }
   ],
   "source": [
    "nama = \"Rio\"\n",
    "usia = 2\n",
    "warna = \"Biru tua\"\n",
    "jenis = \"Makaw Biru\"\n",
    "print(\"===== Info Burung =====\")\n",
    "print()\n",
    "def bird():\n",
    "  print(\"peaaaakkkk... \")\n",
    "\n",
    "def info_burung(nama, usia, warna, jenis):\n",
    "  print(f\"nama\\t: {nama}\\nusia\\t: {usia} tahun\\nwarna\\t: {warna}\\njenis\\t: {jenis}\") \n",
    "\n",
    "info_burung(nama, usia, warna, jenis)\n",
    "bird()\n",
    "print()\n",
    "print(\"=====================\")"
   ]
  },
  {
   "cell_type": "markdown",
   "id": "quarterly-serve",
   "metadata": {},
   "source": [
    "### Encapsulation"
   ]
  },
  {
   "cell_type": "code",
   "execution_count": 2,
   "id": "above-senegal",
   "metadata": {},
   "outputs": [
    {
     "name": "stdout",
     "output_type": "stream",
     "text": [
      "===== Info Burung =====\n",
      "\n",
      "Nama\t: Rio \n",
      "Usia\t: 2 \n",
      "Warna\t: Biru Tua \n",
      "Jenis\t: Makaw Biru\n",
      "peaaakkkkk...  Rio\n",
      "\n",
      "======================\n"
     ]
    }
   ],
   "source": [
    "class Burung(object):\n",
    "    \n",
    "    nama_burung = \"\"\n",
    "    def __init__(self, input_nama, input_usia, input_warna, input_jenis):\n",
    "        self.nama = input_nama\n",
    "        self.usia = input_usia\n",
    "        self.warna = input_warna\n",
    "        self.jenis = input_jenis\n",
    "        Burung.nama_burung = input_nama\n",
    "\n",
    "    def bird(self):\n",
    "        print(\"peaaakkkkk... \", self.nama)\n",
    "\n",
    "    def info(self):\n",
    "        print(f\"Nama\\t: {self.nama} \\nUsia\\t: {self.usia} \\nWarna\\t: {self.warna} \\nJenis\\t: {self.jenis}\")\n",
    "\n",
    "\n",
    "burung1 = Burung(\"Rio\", 2, \"Biru Tua\", \"Makaw Biru\")\n",
    "\n",
    "print(\"===== Info Burung =====\")\n",
    "print()\n",
    "burung1.info()\n",
    "burung1.bird()\n",
    "print()\n",
    "print(\"======================\")"
   ]
  },
  {
   "cell_type": "markdown",
   "id": "minus-foundation",
   "metadata": {},
   "source": [
    "### Inheritence"
   ]
  },
  {
   "cell_type": "code",
   "execution_count": 3,
   "id": "clean-soviet",
   "metadata": {},
   "outputs": [
    {
     "name": "stdout",
     "output_type": "stream",
     "text": [
      "Nama\t\t: Rio \n",
      "Usia\t\t: 2 \n",
      "Warna\t\t: Biru Tua\n",
      "Jenis\t\t: Makaw Biru\n"
     ]
    }
   ],
   "source": [
    "class Binatang(object):\n",
    "    def __init__(self, nama, usia, warna, jenis):\n",
    "        self.nama = nama\n",
    "        self.usia = usia\n",
    "        self.warna = warna\n",
    "        self.jenis = jenis\n",
    "\n",
    "    def makan(self, makanan):\n",
    "        for x in range(makanan):\n",
    "            print(\"tuk...tuk...\")\n",
    "\n",
    "    def info(self):\n",
    "        print(f\"Nama\\t\\t: {self.nama} \\nUsia\\t\\t: {self.usia} \\nWarna\\t\\t: {self.warna}\\nJenis\\t\\t: {self.jenis}\")\n",
    "\n",
    "\n",
    "animal1 = Binatang(\"Rio\", 2, \"Biru Tua\",\"Makaw Biru\")\n",
    "\n",
    "animal1.info()"
   ]
  },
  {
   "cell_type": "code",
   "execution_count": 4,
   "id": "confidential-heavy",
   "metadata": {},
   "outputs": [
    {
     "name": "stdout",
     "output_type": "stream",
     "text": [
      "Nama\t\t: Rendi \n",
      "Usia\t\t: 2 \n",
      "Warna\t\t: Biru Tua\n",
      "Jenis\t\t: omnivora\n",
      "Warna\t\t: Biru Tua \n",
      "Jenis Burung\t: Makaw Biru\n",
      "tuk...tuk...\n",
      "tuk...tuk...\n",
      "peaaakkkk\n"
     ]
    }
   ],
   "source": [
    "class Burung(Binatang):\n",
    "    def __init__(self,  nama, usia, jenis, warna, jenis_burung):\n",
    "        super().__init__(nama, usia, warna, jenis)\n",
    "        self.warna = warna\n",
    "        self.jenis_burung = jenis_burung\n",
    "\n",
    "    def bird(self):\n",
    "        super().makan(2)\n",
    "        print(\"peaaakkkk\")\n",
    "\n",
    "    def info_burung(self):\n",
    "        super().info()\n",
    "        print(f\"Warna\\t\\t: {self.warna} \\nJenis Burung\\t: {self.jenis_burung}\")\n",
    "\n",
    "bird1 = Burung(\"Rendi\", 2, \"omnivora\", \"Biru Tua\", \"Makaw Biru\")\n",
    "\n",
    "bird1.info_burung()\n",
    "bird1.bird()"
   ]
  },
  {
   "cell_type": "markdown",
   "id": "ceramic-milan",
   "metadata": {},
   "source": [
    "### Abstraction"
   ]
  },
  {
   "cell_type": "code",
   "execution_count": 12,
   "id": "turned-endorsement",
   "metadata": {},
   "outputs": [],
   "source": [
    "from abc import abstractmethod, ABC"
   ]
  },
  {
   "cell_type": "code",
   "execution_count": 32,
   "id": "mathematical-reader",
   "metadata": {},
   "outputs": [
    {
     "name": "stdout",
     "output_type": "stream",
     "text": [
      "Burung Berikut Berjenis\t\t:\n",
      "Makaw Biru\n",
      "Mamalia Berikut Berjenis\t:\n",
      "Kambing\n"
     ]
    }
   ],
   "source": [
    "class Binatang(ABC):\n",
    "    \n",
    "    @abstractmethod\n",
    "    def jenis(self):\n",
    "        pass\n",
    "    \n",
    "class burung(Binatang):\n",
    "    def jenis(self):\n",
    "        print(\"Makaw Biru\")\n",
    "        \n",
    "class mamalia(Binatang):\n",
    "    def jenis(self):\n",
    "        print(\"Kambing\")\n",
    "        \n",
    "burung1 = burung()\n",
    "\n",
    "mamalia1 = mamalia()\n",
    "print(\"Burung Berikut Berjenis\\t\\t:\")\n",
    "burung1.jenis()\n",
    "print(\"Mamalia Berikut Berjenis\\t:\")\n",
    "mamalia1.jenis()"
   ]
  },
  {
   "cell_type": "markdown",
   "id": "beneficial-renewal",
   "metadata": {},
   "source": [
    "### Polymorphism"
   ]
  },
  {
   "cell_type": "code",
   "execution_count": 22,
   "id": "moderate-employee",
   "metadata": {},
   "outputs": [
    {
     "name": "stdout",
     "output_type": "stream",
     "text": [
      "=== Info Binatang ===\n",
      "Nama\t: Rio\n",
      "Usia\t: 2 Tahun \n",
      "Jenis\t: omnivora \n",
      "Mamalia\t: False\n",
      "Warna\t: Biru Tua\n",
      "wushh... wush... \n",
      "\n",
      "=====================\n",
      "Nama\t: Shaun\n",
      "Usia\t: 4 Tahun \n",
      "Jenis\t: herbivora \n",
      "Mamalia\t: True\n",
      "ddrrr... ddrrr... \n",
      "ddrrr... ddrrr... \n",
      "kenyaang\n",
      "\n",
      "=====================\n"
     ]
    }
   ],
   "source": [
    "class Binatang(object):\n",
    "  def __init__(self, nama, usia, jenis, mamalia):\n",
    "    self.nama = nama\n",
    "    self.usia = usia\n",
    "    self.jenis = jenis\n",
    "    self.mamalia = mamalia\n",
    "\n",
    "  def tidur(self, durasi):\n",
    "    for x in range(durasi):\n",
    "      print(\"ddrrr... ddrrr... \")\n",
    "\n",
    "  def info(self):\n",
    "    print(f\"Nama\\t: {self.nama}\\nUsia\\t: {self.usia} Tahun \\nJenis\\t: {self.jenis} \\nMamalia\\t: {self.mamalia}\")\n",
    "\n",
    "\n",
    "class Burung(Binatang):\n",
    "  def __init__(self,  nama, usia, jenis, mamalia, warna):\n",
    "    super().__init__(nama, usia, jenis, mamalia)\n",
    "    self.warna = warna\n",
    "  \n",
    "  def terbang(self, durasi):\n",
    "    print(\"wushh... wush... \")\n",
    "\n",
    "  def info_burung(self):\n",
    "    print(f\"Warna\\t: {self.warna}\")\n",
    "\n",
    "class kambing(Binatang):\n",
    "  def __init__(self, nama, usia, jenis, mamalia, warna):\n",
    "    super().__init__(nama, usia, jenis, mamalia)\n",
    "    self.warna = warna\n",
    "  \n",
    "  def makan_rumput(self, karung):\n",
    "    if karung >=5 :\n",
    "      print(\"kenyaang\")\n",
    "    else:\n",
    "      print(\"lapaar\")\n",
    "\n",
    "bird1 = Burung(\"Rio\", 2, \"omnivora\", False, \"Biru Tua\")\n",
    "print(\"=== Info Binatang ===\")\n",
    "bird1.info()\n",
    "bird1.info_burung()\n",
    "bird1.terbang(5)\n",
    "\n",
    "print()\n",
    "print(\"=====================\")\n",
    "kambing1 = kambing(\"Shaun\", 4, \"herbivora\", True, \"Putih Hitam\")\n",
    "\n",
    "kambing1.info()\n",
    "kambing1.tidur(2)\n",
    "kambing1.makan_rumput(5)\n",
    "print()\n",
    "print(\"=====================\")"
   ]
  },
  {
   "cell_type": "markdown",
   "id": "sexual-substance",
   "metadata": {},
   "source": [
    "## Kelas Buku"
   ]
  },
  {
   "cell_type": "code",
   "execution_count": 28,
   "id": "common-visiting",
   "metadata": {},
   "outputs": [
    {
     "name": "stdout",
     "output_type": "stream",
     "text": [
      "===== Info Buku =====\n",
      "\n",
      "Merk\t: Sidu\n",
      "Harga\t: 2500 Rupiah\n",
      "Ukuran\t: A5\n",
      "Jenis\t: Buku Tulis\n",
      "\n",
      "=====================\n"
     ]
    }
   ],
   "source": [
    "Merk = \"Sidu\"\n",
    "Harga = 2500\n",
    "Ukuran = \"A5\"\n",
    "Jenis = \"Buku Tulis\"\n",
    "\n",
    "print(\"===== Info Buku =====\")\n",
    "print()\n",
    "def info_buku(Merk, Harga, Ukuran, Jenis):\n",
    "  print(f\"Merk\\t: {Merk}\\nHarga\\t: {Harga} Rupiah\\nUkuran\\t: {Ukuran}\\nJenis\\t: {Jenis}\") \n",
    "\n",
    "info_buku(Merk, Harga, Ukuran, Jenis)\n",
    "print()\n",
    "print(\"=====================\")"
   ]
  },
  {
   "cell_type": "markdown",
   "id": "minute-tribune",
   "metadata": {},
   "source": [
    "### Encapsulation"
   ]
  },
  {
   "cell_type": "code",
   "execution_count": 68,
   "id": "political-minnesota",
   "metadata": {},
   "outputs": [
    {
     "name": "stdout",
     "output_type": "stream",
     "text": [
      "===== Info Buku =====\n",
      "\n",
      "Merk\t: Sidu \n",
      "Harga\t: 2500 Rupiah \n",
      "Ukuran\t: A5 \n",
      "Jenis\t: Buku tulis\n",
      "Buku tulis digunakan untuk menulis\n",
      "\n",
      "=====================\n"
     ]
    }
   ],
   "source": [
    "class Buku(object):\n",
    "    \n",
    "    merk_buku = \"\"\n",
    "    def __init__(self, input_merk, input_harga, input_ukuran, input_jenis):\n",
    "        self.merk = input_merk\n",
    "        self.harga = input_harga\n",
    "        self.ukuran = input_ukuran\n",
    "        self.jenis = input_jenis\n",
    "\n",
    "    def buku(self):\n",
    "        print(self.jenis, \"digunakan untuk menulis\")\n",
    "\n",
    "    def info(self):\n",
    "        print(f\"Merk\\t: {self.merk} \\nHarga\\t: {self.harga} Rupiah \\nUkuran\\t: {self.ukuran} \\nJenis\\t: {self.jenis}\")\n",
    "\n",
    "\n",
    "buku1 = Buku(\"Sidu\", 2500, \"A5\", \"Buku tulis\")\n",
    "print(\"===== Info Buku =====\")\n",
    "print()\n",
    "buku1.info()\n",
    "buku1.buku()\n",
    "print()\n",
    "print(\"=====================\")"
   ]
  },
  {
   "cell_type": "markdown",
   "id": "experienced-ontario",
   "metadata": {},
   "source": [
    "### Inheritance"
   ]
  },
  {
   "cell_type": "code",
   "execution_count": 120,
   "id": "colonial-arena",
   "metadata": {},
   "outputs": [
    {
     "name": "stdout",
     "output_type": "stream",
     "text": [
      "Merk\t\t: Sidu \n",
      "Harga\t\t: 2500 Rupiah \n",
      "Ukuran\t\t: A5\n",
      "Jenis\t\t: Buku Tulis\n"
     ]
    }
   ],
   "source": [
    "class Alat_Tulis(object):\n",
    "    def __init__(self, merk, harga, ukuran, jenis):\n",
    "        self.merk = merk\n",
    "        self.harga = harga\n",
    "        self.ukuran = ukuran\n",
    "        self.jenis = jenis\n",
    "\n",
    "    def pesan(self, pesan):\n",
    "        for x in range(pesan):\n",
    "            print(\"Buku Dari PT. Sinar Dunia\")\n",
    "\n",
    "    def info(self):\n",
    "        print(f\"Merk\\t\\t: {self.merk} \\nHarga\\t\\t: {self.harga} Rupiah \\nUkuran\\t\\t: {self.ukuran}\\nJenis\\t\\t: {self.jenis}\")\n",
    "\n",
    "\n",
    "alattulis1 = Alat_Tulis(\"Sidu\", 2500, \"A5\",\"Buku Tulis\")\n",
    "\n",
    "alattulis1.info()"
   ]
  },
  {
   "cell_type": "code",
   "execution_count": 121,
   "id": "widespread-induction",
   "metadata": {},
   "outputs": [
    {
     "name": "stdout",
     "output_type": "stream",
     "text": [
      "Merk\t\t: Sidu \n",
      "Harga\t\t: 3500 Rupiah \n",
      "Ukuran\t\t: A3\n",
      "Jenis\t\t: Buku Gambar\n",
      "Fungsi\t\t: Digunakan untuk menggambar\n",
      "Buku Dari PT. Sinar Dunia\n",
      "Gunakan sebaik mungkin\n"
     ]
    }
   ],
   "source": [
    "class Buku(Alat_Tulis):\n",
    "    def __init__(self,  merk, harga, ukuran, jenis, fungsi):\n",
    "        super().__init__(merk, harga, ukuran, jenis)\n",
    "        self.fungsi = fungsi\n",
    "\n",
    "    def buku(self):\n",
    "        super().pesan(1)\n",
    "        print(\"Gunakan sebaik mungkin\")\n",
    "\n",
    "    def info_buku(self):\n",
    "        super().info()\n",
    "        print(f\"Fungsi\\t\\t: {self.fungsi}\")\n",
    "\n",
    "buku1 = Buku(\"Sidu\", 3500, \"A3\", \"Buku Gambar\", \"Digunakan untuk menggambar\")\n",
    "\n",
    "buku1.info_buku()\n",
    "buku1.buku()"
   ]
  },
  {
   "cell_type": "markdown",
   "id": "satisfactory-benchmark",
   "metadata": {},
   "source": [
    "### Abstraction"
   ]
  },
  {
   "cell_type": "code",
   "execution_count": 12,
   "id": "brilliant-helicopter",
   "metadata": {},
   "outputs": [],
   "source": [
    "from abc import abstractmethod, ABC"
   ]
  },
  {
   "cell_type": "code",
   "execution_count": 25,
   "id": "capital-timber",
   "metadata": {},
   "outputs": [
    {
     "name": "stdout",
     "output_type": "stream",
     "text": [
      "Alat Tulis Berikut Berjenis :\n",
      "Buku Tulis\n",
      "Alat Tulis Berikut Berjenis :\n",
      "Buku Gambar\n"
     ]
    }
   ],
   "source": [
    "class Alat_tulis(ABC):\n",
    "    \n",
    "    @abstractmethod\n",
    "    def jenis(self):\n",
    "        pass\n",
    "    \n",
    "class buku(Alat_tulis):\n",
    "    def jenis(self):\n",
    "        print(\"Buku Tulis\")\n",
    "        \n",
    "class buku2(Alat_tulis):\n",
    "    def jenis(self):\n",
    "        print(\"Buku Gambar\")\n",
    "        \n",
    "buku1 = buku()\n",
    "\n",
    "buku_g1 = buku2()\n",
    "print(\"Alat Tulis Berikut Berjenis :\")\n",
    "buku1.jenis()\n",
    "print(\"Alat Tulis Berikut Berjenis :\")\n",
    "buku_g1.jenis()"
   ]
  },
  {
   "cell_type": "markdown",
   "id": "exterior-handle",
   "metadata": {},
   "source": [
    "### Polymorphism"
   ]
  },
  {
   "cell_type": "code",
   "execution_count": 32,
   "id": "forbidden-bruce",
   "metadata": {},
   "outputs": [
    {
     "name": "stdout",
     "output_type": "stream",
     "text": [
      "===Info Alat Tulis ===\n",
      "Merk\t: Sidu\n",
      "Harga\t: 3000 Rupiah \n",
      "Jenis\t: Buku Tulis\n",
      "Warna\t: Biru Tua \n",
      "Ukuran\t: A5\n",
      "\n",
      "=====================\n",
      "Merk\t: Faber\n",
      "Harga\t: 4000 Rupiah \n",
      "Jenis\t: Pensil\n",
      "Warna\t: Hijau\n",
      "\n",
      "=====================\n"
     ]
    }
   ],
   "source": [
    "class Alat_tulis(object):\n",
    "  def __init__(self, merk, harga, jenis):\n",
    "    self.merk = merk\n",
    "    self.harga = harga\n",
    "    self.jenis = jenis\n",
    "\n",
    "  def info(self):\n",
    "    print(f\"Merk\\t: {self.merk}\\nHarga\\t: {self.harga} Rupiah \\nJenis\\t: {self.jenis}\")\n",
    "\n",
    "\n",
    "class Buku(Alat_tulis):\n",
    "  def __init__(self,  merk, harga, jenis, warna, ukuran):\n",
    "    super().__init__(merk, harga, jenis)\n",
    "    self.warna = warna\n",
    "    self.ukuran = ukuran\n",
    "  \n",
    "  def info_buku(self):\n",
    "    print(f\"Warna\\t: {self.warna} \\nUkuran\\t: {self.ukuran}\")\n",
    "\n",
    "class pensil(Alat_tulis):\n",
    "  def __init__(self, merk, harga, jenis, warna):\n",
    "    super().__init__(merk, harga, jenis)\n",
    "    self.warna = warna\n",
    "  def info_pensil(self):\n",
    "    print(f\"Warna\\t: {self.warna}\")\n",
    "\n",
    "buku1 = Buku(\"Sidu\", 3000, \"Buku Tulis\", \"Biru Tua\", \"A5\")\n",
    "print(\"===Info Alat Tulis ===\")\n",
    "buku1.info()\n",
    "buku1.info_buku()\n",
    "\n",
    "print()\n",
    "print(\"=====================\")\n",
    "pensil1 = pensil(\"Faber\", 4000, \"Pensil\", \"Hijau\")\n",
    "\n",
    "pensil1.info()\n",
    "pensil1.info_pensil()\n",
    "print()\n",
    "print(\"=====================\")"
   ]
  },
  {
   "cell_type": "markdown",
   "id": "parental-diving",
   "metadata": {},
   "source": [
    "## Kelas Laptop"
   ]
  },
  {
   "cell_type": "code",
   "execution_count": 46,
   "id": "rural-meditation",
   "metadata": {},
   "outputs": [
    {
     "name": "stdout",
     "output_type": "stream",
     "text": [
      "========= Info Laptop =========\n",
      "\n",
      "Merk\t\t: Acer Predator\n",
      "Harga\t\t: 33 Juta\n",
      "Processor\t: Core i7\n",
      "RAM\t\t: 16\n",
      "Jenis\t\t: Gaming\n",
      "\n",
      "===============================\n"
     ]
    }
   ],
   "source": [
    "Merk = \"Acer Predator\"\n",
    "Harga = 33\n",
    "Processor = \"Core i7\"\n",
    "RAM = 16\n",
    "Jenis = \"Gaming\"\n",
    "\n",
    "print(\"========= Info Laptop =========\")\n",
    "print()\n",
    "def info_laptop(Merk, Harga, Processor, RAM, Jenis):\n",
    "  print(f\"Merk\\t\\t: {Merk}\\nHarga\\t\\t: {Harga} Juta\\nProcessor\\t: {Processor}\\nRAM\\t\\t: {RAM}\\nJenis\\t\\t: {Jenis}\") \n",
    "\n",
    "info_laptop(Merk, Harga, Processor, RAM, Jenis)\n",
    "print()\n",
    "print(\"===============================\")"
   ]
  },
  {
   "cell_type": "markdown",
   "id": "alive-recovery",
   "metadata": {},
   "source": [
    "### Encapsulation"
   ]
  },
  {
   "cell_type": "code",
   "execution_count": 67,
   "id": "complimentary-phenomenon",
   "metadata": {},
   "outputs": [
    {
     "name": "stdout",
     "output_type": "stream",
     "text": [
      "===== Info Laptop =====\n",
      "\n",
      "Merk\t\t: Acer \n",
      "Harga\t\t: 33 Juta \n",
      "Processor\t: Core i7 \n",
      "RAM\t\t: 16 \n",
      "Jenis\t\t: Gaming\n",
      "Gaming support untuk bermain game\n",
      "\n",
      "=======================\n"
     ]
    }
   ],
   "source": [
    "class Laptop(object):\n",
    "    \n",
    "    merk_laptop = \"\"\n",
    "    def __init__(self, input_merk, input_harga, input_processor, input_ram, input_jenis):\n",
    "        self.merk = input_merk\n",
    "        self.harga = input_harga\n",
    "        self.processor = input_processor\n",
    "        self.ram = input_ram\n",
    "        self.jenis = input_jenis\n",
    "\n",
    "    def laptop(self):\n",
    "        print(self.jenis, \"support untuk bermain game\")\n",
    "\n",
    "    def info(self):\n",
    "        print(f\"Merk\\t\\t: {self.merk} \\nHarga\\t\\t: {self.harga} Juta \\nProcessor\\t: {self.processor} \\nRAM\\t\\t: {self.ram} \\nJenis\\t\\t: {self.jenis}\")\n",
    "\n",
    "\n",
    "laptop1 = Laptop(\"Acer\", 33, \"Core i7\", \"16\", \"Gaming\")\n",
    "print(\"===== Info Laptop =====\")\n",
    "print()\n",
    "laptop1.info()\n",
    "laptop1.laptop()\n",
    "print()\n",
    "print(\"=======================\")"
   ]
  },
  {
   "cell_type": "markdown",
   "id": "champion-vampire",
   "metadata": {},
   "source": [
    "### Inheritence"
   ]
  },
  {
   "cell_type": "code",
   "execution_count": 10,
   "id": "round-tobacco",
   "metadata": {},
   "outputs": [
    {
     "name": "stdout",
     "output_type": "stream",
     "text": [
      "===== Info Laptop =====\n",
      "\n",
      "Merk\t\t: Acer \n",
      "Harga\t\t: 33 Juta\n",
      "Jenis\t\t: Laptop\n",
      "\n",
      "=======================\n"
     ]
    }
   ],
   "source": [
    "class Elektronik(object):\n",
    "    def __init__(self, merk, harga, jenis):\n",
    "        self.merk = merk\n",
    "        self.harga = harga\n",
    "        self.jenis = jenis\n",
    "\n",
    "    def pesan(self, pesan):\n",
    "        for x in range(pesan):\n",
    "            print(\"Hati-hati barang elktronik\")\n",
    "\n",
    "    def info(self):\n",
    "        print(f\"Merk\\t\\t: {self.merk} \\nHarga\\t\\t: {self.harga} Juta\\nJenis\\t\\t: {self.jenis}\")\n",
    "\n",
    "print(\"===== Info Laptop =====\")\n",
    "print()\n",
    "elektronik1 = Elektronik(\"Acer\", 33, \"Laptop\")\n",
    "\n",
    "elektronik1.info()\n",
    "print()\n",
    "print(\"=======================\")"
   ]
  },
  {
   "cell_type": "code",
   "execution_count": 9,
   "id": "existing-murder",
   "metadata": {},
   "outputs": [
    {
     "name": "stdout",
     "output_type": "stream",
     "text": [
      "===== Info Laptop =====\n",
      "\n",
      "Merk\t\t: Acer \n",
      "Harga\t\t: 33 Juta\n",
      "Jenis\t\t: Laptop\n",
      "Warna\t\t: Hitam \n",
      "Jenis Laptop\t: Laptop Gaming\n",
      "Hati-hati barang elktronik\n",
      "Fragile...\n",
      "\n",
      "=======================\n"
     ]
    }
   ],
   "source": [
    "class Laptop(Elektronik):\n",
    "    def __init__(self,  merk, harga, jenis, warna, jenis_laptop):\n",
    "        super().__init__(merk, harga, jenis)\n",
    "        self.warna = warna\n",
    "        self.jenis_laptop = jenis_laptop\n",
    "\n",
    "    def lap(self):\n",
    "        super().pesan(1)\n",
    "        print(\"Fragile...\")\n",
    "\n",
    "    def info_laptop(self):\n",
    "        super().info()\n",
    "        print(f\"Warna\\t\\t: {self.warna} \\nJenis Laptop\\t: {self.jenis_laptop}\")\n",
    "print(\"===== Info Laptop =====\")\n",
    "print()\n",
    "lap1 = Laptop(\"Acer\", 33, \"Laptop\", \"Hitam\", \"Laptop Gaming\")\n",
    "\n",
    "lap1.info_laptop()\n",
    "lap1.lap()\n",
    "print()\n",
    "print(\"=======================\")"
   ]
  },
  {
   "cell_type": "markdown",
   "id": "dress-penalty",
   "metadata": {},
   "source": [
    "### Abstraction"
   ]
  },
  {
   "cell_type": "code",
   "execution_count": 12,
   "id": "given-threshold",
   "metadata": {},
   "outputs": [],
   "source": [
    "from abc import abstractmethod, ABC"
   ]
  },
  {
   "cell_type": "code",
   "execution_count": 20,
   "id": "north-mentor",
   "metadata": {},
   "outputs": [],
   "source": [
    "class Elektronik(ABC):\n",
    "    \n",
    "    @abstractmethod\n",
    "    def jenis(self):\n",
    "        pass\n",
    "    \n",
    "class laptop(Elektronik):\n",
    "    def jenis(self):\n",
    "        print(\"Laptop\")\n",
    "        \n",
    "class tv(Elektronik):\n",
    "    def jenis(self):\n",
    "        print(\"Television\")\n",
    "laptop1 = laptop()\n",
    "tv1 = tv()\n",
    "print(\"Barang Elektronik Berikut Berjenis :\")\n",
    "laptop1.jenis()\n",
    "print(\"Barang Elektronik Berikut Berjenis :\")\n",
    "tv1.jenis()"
   ]
  },
  {
   "cell_type": "markdown",
   "id": "related-mention",
   "metadata": {},
   "source": [
    "### Polymorphism"
   ]
  },
  {
   "cell_type": "code",
   "execution_count": 30,
   "id": "joint-prime",
   "metadata": {},
   "outputs": [
    {
     "name": "stdout",
     "output_type": "stream",
     "text": [
      "==== Info Barang ====\n",
      "Merk\t: Acer\n",
      "Harga\t: 33 Juta \n",
      "Jenis\t: Laptop Gaming\n",
      "Warna\t: Biru Tua\n",
      "\n",
      "=====================\n",
      "Merk\t: LG\n",
      "Harga\t: 4 Juta \n",
      "Jenis\t: Television Digital\n",
      "Warna\t: Putih Hitam\n",
      "\n",
      "=====================\n"
     ]
    }
   ],
   "source": [
    "class Elektronik(object):\n",
    "  def __init__(self, merk, harga, jenis):\n",
    "    self.merk = merk\n",
    "    self.harga = harga\n",
    "    self.jenis = jenis\n",
    "\n",
    "  def garansi(self, durasi):\n",
    "    for x in range(durasi):\n",
    "      print(\"Garansi Produk Elektronik 1 tahun\")\n",
    "\n",
    "  def info(self):\n",
    "    print(f\"Merk\\t: {self.merk}\\nHarga\\t: {self.harga} Juta \\nJenis\\t: {self.jenis}\")\n",
    "\n",
    "\n",
    "class laptop(Elektronik):\n",
    "  def __init__(self,  merk, harga, jenis, warna):\n",
    "    super().__init__(merk, harga, jenis)\n",
    "    self.warna = warna\n",
    "  \n",
    "  def info_laptop(self):\n",
    "    print(f\"Warna\\t: {self.warna}\")\n",
    "\n",
    "class tv(Elektronik):\n",
    "  def __init__(self, merk, harga, jenis, warna):\n",
    "    super().__init__(merk, harga, jenis)\n",
    "    self.warna = warna\n",
    "  def info_tv(self):\n",
    "    print(f\"Warna\\t: {self.warna}\")\n",
    "\n",
    "laptop1 = laptop(\"Acer\", 33, \"Laptop Gaming\", \"Biru Tua\")\n",
    "print(\"==== Info Barang ====\")\n",
    "laptop1.info()\n",
    "laptop1.info_laptop()\n",
    "\n",
    "print()\n",
    "print(\"=====================\")\n",
    "tv1 = tv(\"LG\", 4, \"Television Digital\", \"Putih Hitam\")\n",
    "\n",
    "tv1.info()\n",
    "tv1.info_tv()\n",
    "print()\n",
    "print(\"=====================\")"
   ]
  },
  {
   "cell_type": "code",
   "execution_count": null,
   "id": "generous-squad",
   "metadata": {},
   "outputs": [],
   "source": []
  }
 ],
 "metadata": {
  "kernelspec": {
   "display_name": "Python 3",
   "language": "python",
   "name": "python3"
  },
  "language_info": {
   "codemirror_mode": {
    "name": "ipython",
    "version": 3
   },
   "file_extension": ".py",
   "mimetype": "text/x-python",
   "name": "python",
   "nbconvert_exporter": "python",
   "pygments_lexer": "ipython3",
   "version": "3.9.2"
  }
 },
 "nbformat": 4,
 "nbformat_minor": 5
}
