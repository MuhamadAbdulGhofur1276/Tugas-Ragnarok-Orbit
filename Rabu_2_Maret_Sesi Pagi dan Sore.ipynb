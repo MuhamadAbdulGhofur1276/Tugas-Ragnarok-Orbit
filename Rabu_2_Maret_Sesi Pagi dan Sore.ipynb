{
 "cells": [
  {
   "cell_type": "markdown",
   "id": "municipal-module",
   "metadata": {},
   "source": [
    "# Sesi Pagi"
   ]
  },
  {
   "cell_type": "markdown",
   "id": "behind-advocacy",
   "metadata": {},
   "source": [
    "## No. 1\n",
    "\n",
    "### (1) b and c: False\n",
    "### (2) b or c: True\n",
    "### (3) not a and b: True\n",
    "### (4) (a and b) or not c: True\n",
    "### (5) not b and not (a or c): False"
   ]
  },
  {
   "cell_type": "markdown",
   "id": "private-margin",
   "metadata": {},
   "source": [
    "## No. 2"
   ]
  },
  {
   "cell_type": "code",
   "execution_count": 67,
   "id": "determined-installation",
   "metadata": {},
   "outputs": [
    {
     "name": "stdout",
     "output_type": "stream",
     "text": [
      "Hello!\n",
      "Enter Something: opung\n",
      "You entered:  opung\n"
     ]
    }
   ],
   "source": [
    "print('Hello!')\n",
    "something = input(\"Enter Something: \")\n",
    "print('You entered: ',something)"
   ]
  },
  {
   "cell_type": "markdown",
   "id": "premium-pension",
   "metadata": {},
   "source": [
    "## No.3"
   ]
  },
  {
   "cell_type": "code",
   "execution_count": 68,
   "id": "minimal-initial",
   "metadata": {},
   "outputs": [
    {
     "name": "stdout",
     "output_type": "stream",
     "text": [
      "Hello!\n",
      "Enter something: hello\n",
      "Hello for you too!\n"
     ]
    }
   ],
   "source": [
    "print('Hello!')\n",
    "something = input(\"Enter something: \")\n",
    "if something == 'hello':\n",
    "    print(\"Hello for you too!\")\n",
    "elif something == 'hi':\n",
    "    print(\"Hi there!\")\n",
    "else:\n",
    "    print(\"I don't know what,\",something, \"means.\")"
   ]
  },
  {
   "cell_type": "markdown",
   "id": "ceramic-meaning",
   "metadata": {},
   "source": [
    "## No.4"
   ]
  },
  {
   "cell_type": "code",
   "execution_count": 70,
   "id": "abroad-mobile",
   "metadata": {},
   "outputs": [
    {
     "name": "stdout",
     "output_type": "stream",
     "text": [
      "halo hai halo hai halo hai halo hai halo hai halo hai halo hai halo hai halo hai halo hai halo hai halo hai halo hai halo hai halo hai halo hai halo hai halo hai halo hai halo hai halo hai halo hai halo hai halo hai halo hai halo hai halo hai halo hai halo hai halo hai halo hai halo hai halo hai halo hai halo hai halo hai halo hai halo hai halo hai halo hai halo hai halo hai halo hai halo hai halo hai halo hai halo hai halo hai halo hai halo hai halo hai halo hai halo hai halo hai halo hai halo hai halo hai halo hai halo hai halo hai halo hai halo hai halo hai halo hai halo hai halo hai halo hai halo hai halo hai halo hai halo hai halo hai halo hai halo hai halo hai halo hai halo hai halo hai halo hai halo hai halo hai halo hai halo hai halo hai halo hai halo hai halo hai halo hai halo hai halo hai halo hai halo hai halo hai halo hai halo hai halo hai halo hai halo hai halo hai halo hai "
     ]
    }
   ],
   "source": [
    "for i in range(100):\n",
    "    print(\"halo hai\",end=' ')"
   ]
  },
  {
   "cell_type": "markdown",
   "id": "conservative-trading",
   "metadata": {},
   "source": [
    "## No.5"
   ]
  },
  {
   "cell_type": "code",
   "execution_count": 5,
   "id": "instant-border",
   "metadata": {},
   "outputs": [
    {
     "name": "stdout",
     "output_type": "stream",
     "text": [
      "Player 1 Enter your choice: batu\n",
      "Player 2 Enter your choice: kertas\n",
      "Player 2 menang!\n"
     ]
    }
   ],
   "source": [
    "rock = \"batu\"\n",
    "paper = \"kertas\"\n",
    "scissors = \"gunting\"\n",
    " \n",
    "# inputan\n",
    "player1 = input(\"Player 1 Enter your choice: \")\n",
    "player2 = input(\"Player 2 Enter your choice: \")\n",
    "\n",
    "# logikanya\n",
    "if player1 == rock and player2 == scissors:\n",
    "    print(\"Player 1 menang!\")\n",
    "elif player1 == scissors and player2 == scissors:\n",
    "    print(\"Seri!\")\n",
    "elif player1 == paper and player2 == scissors:\n",
    "    print(\"Player 2 menang!\")\n",
    "elif player1 == scissors and player2 == paper:\n",
    "    print(\"Player 1 menang!\")\n",
    "elif player1 == rock and player2 == paper:\n",
    "    print(\"Player 2 menang!\")\n",
    "elif player1 == rock and player2 == rock:\n",
    "    print(\"Seri!\")\n",
    "elif player1 == paper and player2 == paper:\n",
    "    print(\"Seri!\")\n",
    "else:\n",
    "    print(\"Input tidak valid!\")"
   ]
  },
  {
   "cell_type": "markdown",
   "id": "assumed-admission",
   "metadata": {},
   "source": [
    "## No.6"
   ]
  },
  {
   "cell_type": "code",
   "execution_count": 71,
   "id": "passive-controversy",
   "metadata": {},
   "outputs": [
    {
     "name": "stdout",
     "output_type": "stream",
     "text": [
      "Ingin lanjut atau berhenti? berhenti\n",
      "Total perulangan: 1\n"
     ]
    }
   ],
   "source": [
    "jawab = 'lanjut'\n",
    "hitung = 0\n",
    "while(True):\n",
    "    hitung += 1\n",
    "    jawab = input(\"Ingin lanjut atau berhenti? \")\n",
    "    if jawab == 'berhenti':\n",
    "        break\n",
    "print(f\"Total perulangan: {hitung}\")"
   ]
  },
  {
   "cell_type": "markdown",
   "id": "prospective-screening",
   "metadata": {},
   "source": [
    "## No.7"
   ]
  },
  {
   "cell_type": "code",
   "execution_count": 77,
   "id": "premier-bathroom",
   "metadata": {},
   "outputs": [
    {
     "name": "stdout",
     "output_type": "stream",
     "text": [
      "========= MENU =========\n",
      "[1] Donat - Rp 1250\n",
      "[2] Bakwan - Rp 1000\n",
      "[3] Onde-onde - Rp 800\n",
      "[4] Lemper - Rp 1250\n",
      "[5] Risol - Rp 1500\n",
      "Input User: 1\n",
      "Masukan berapa banyak kamu ingin beli?: 15\n",
      "\n",
      "\n",
      "Kamu memesan Donat dengan harga:  18750 terima kasih sudah berbelanja!\n",
      "\n",
      "\n",
      "========= MENU =========\n",
      "[1] Donat - Rp 1250\n",
      "[2] Bakwan - Rp 1000\n",
      "[3] Onde-onde - Rp 800\n",
      "[4] Lemper - Rp 1250\n",
      "[5] Risol - Rp 1500\n",
      "Input User: cukup\n",
      "Masukan berapa banyak kamu ingin beli?: 0\n",
      "\n",
      "\n",
      "Terima kasih sudah berbelanja jajanan pasar kami!\n"
     ]
    }
   ],
   "source": [
    "stop = 'cukup'\n",
    "hrg_donat = 1250\n",
    "hrg_bakwan = 1000\n",
    "hrg_onde = 800\n",
    "hrg_lemper = 1250\n",
    "hrg_risol = 1500\n",
    "while(True):\n",
    "    print(\"========= MENU =========\")\n",
    "    print(\"[1] Donat - Rp 1250\")\n",
    "    print(\"[2] Bakwan - Rp 1000\")\n",
    "    print(\"[3] Onde-onde - Rp 800\")\n",
    "    print(\"[4] Lemper - Rp 1250\")\n",
    "    print(\"[5] Risol - Rp 1500\")\n",
    "    \n",
    "    menu = input(\"Input User: \")\n",
    "    jml = int(input(\"Masukan berapa banyak kamu ingin beli?: \"))\n",
    "    print (\"\\n\")\n",
    "\n",
    "    if menu == '1':\n",
    "        print(\"Kamu memesan Donat dengan harga: \",(jml*hrg_donat),\"terima kasih sudah berbelanja!\")\n",
    "        print(\"\\n\")\n",
    "    elif menu == '2':\n",
    "        print(\"Kamu memesan Bakwan dengan harga: \",(jml*hrg_bakwan),\"terima kasih sudah berbelanja!\")\n",
    "        print(\"\\n\")\n",
    "    elif menu == '3':\n",
    "        print(\"Kamu memesan Onde-onde dengan harga: \",(jml*hrg_onde),\"terima kasih sudah berbelanja!\")\n",
    "        print(\"\\n\")\n",
    "    elif menu == '4':\n",
    "        print(\"Kamu memesan Lemper dengan harga: \",(jml*hrg_lemper),\"terima kasih sudah berbelanja!\")\n",
    "        print(\"\\n\")\n",
    "    elif menu == '5':\n",
    "        print(\"Kamu memesan Risol dengan harga: \",(jml*hrg_risol),\"terima kasih sudah berbelanja!\")\n",
    "        print(\"\\n\")\n",
    "    elif menu == stop:\n",
    "        print(\"Terima kasih sudah berbelanja jajanan pasar kami!\")\n",
    "        break\n",
    "    elif jml == 0:\n",
    "        break\n",
    "    else:\n",
    "        print(\"Ngga ada di pilihan menu!\")"
   ]
  },
  {
   "cell_type": "markdown",
   "id": "lesbian-converter",
   "metadata": {},
   "source": [
    "## No.8"
   ]
  },
  {
   "cell_type": "code",
   "execution_count": 75,
   "id": "sized-trunk",
   "metadata": {},
   "outputs": [
    {
     "name": "stdout",
     "output_type": "stream",
     "text": [
      "========= MENU =========\n",
      "[1] Donat - Rp 1250\n",
      "[2] Bakwan - Rp 1000\n",
      "[3] Onde-onde - Rp 800\n",
      "[4] Lemper - Rp 1250\n",
      "[5] Risol - Rp 1500\n",
      "Input User: 2\n",
      "Masukan berapa banyak kamu ingin beli?: 10\n",
      "\n",
      "\n",
      "Kamu memesan Bakwan dengan harga Rp 1000, terima kasih sudah berbelanja!\n",
      "Total Biaya:  10000\n",
      "\n",
      "\n",
      "========= MENU =========\n",
      "[1] Donat - Rp 1250\n",
      "[2] Bakwan - Rp 1000\n",
      "[3] Onde-onde - Rp 800\n",
      "[4] Lemper - Rp 1250\n",
      "[5] Risol - Rp 1500\n",
      "Input User: cukup\n",
      "Masukan berapa banyak kamu ingin beli?: 0\n",
      "\n",
      "\n",
      "Terima kasih sudah berbelanja jajanan pasar kami!\n"
     ]
    }
   ],
   "source": [
    "stop = 'cukup'\n",
    "hrg_donat = 1250\n",
    "hrg_bakwan = 1000\n",
    "hrg_onde = 800\n",
    "hrg_lemper = 1250\n",
    "hrg_risol = 1500\n",
    "while(True):\n",
    "    print(\"========= MENU =========\")\n",
    "    print(\"[1] Donat - Rp 1250\")\n",
    "    print(\"[2] Bakwan - Rp 1000\")\n",
    "    print(\"[3] Onde-onde - Rp 800\")\n",
    "    print(\"[4] Lemper - Rp 1250\")\n",
    "    print(\"[5] Risol - Rp 1500\")\n",
    "    \n",
    "    menu = input(\"Input User: \")\n",
    "    jml = int(input(\"Masukan berapa banyak kamu ingin beli?: \"))\n",
    "    print (\"\\n\")\n",
    "\n",
    "    if menu == '1':\n",
    "        print(\"Kamu memesan Donat dengan harga Rp 1250, terima kasih sudah berbelanja!\")\n",
    "        print(\"Total Biaya: \",(jml*hrg_donat))\n",
    "        print(\"\\n\")\n",
    "    elif menu == '2':\n",
    "        print(\"Kamu memesan Bakwan dengan harga Rp 1000, terima kasih sudah berbelanja!\")\n",
    "        print(\"Total Biaya: \",(jml*hrg_bakwan))\n",
    "        print(\"\\n\")\n",
    "    elif menu == '3':\n",
    "        print(\"Kamu memesan Onde-onde dengan harga Rp 800, terima kasih sudah berbelanja!\")\n",
    "        print(\"Total Biaya: \",(jml*hrg_onde))\n",
    "        print(\"\\n\")\n",
    "    elif menu == '4':\n",
    "        print(\"Kamu memesan Lemper dengan harga Rp 1250, terima kasih sudah berbelanja!\")\n",
    "        print(\"Total Biaya: \",(jml*hrg_lemper))\n",
    "        print(\"\\n\")\n",
    "    elif menu == '5':\n",
    "        print(\"Kamu memesan Risol dengan harga Rp 1500, terima kasih sudah berbelanja!\")\n",
    "        print(\"Total Biaya: \",(jml*hrg_risol))\n",
    "        print(\"\\n\")\n",
    "    elif menu == stop:\n",
    "        print(\"Terima kasih sudah berbelanja jajanan pasar kami!\")\n",
    "        break\n",
    "    elif jml == 0:\n",
    "        break\n",
    "    else:\n",
    "        print(\"Ngga ada di pilihan menu!\")"
   ]
  },
  {
   "cell_type": "markdown",
   "id": "terminal-kruger",
   "metadata": {},
   "source": [
    "# Sesi Sore"
   ]
  },
  {
   "cell_type": "markdown",
   "id": "aquatic-joshua",
   "metadata": {},
   "source": [
    "## No.1"
   ]
  },
  {
   "cell_type": "code",
   "execution_count": 22,
   "id": "worth-silly",
   "metadata": {},
   "outputs": [
    {
     "name": "stdout",
     "output_type": "stream",
     "text": [
      "Masukan Nilai M :2\n",
      "Masukan Nilai N :2\n",
      "True\n"
     ]
    }
   ],
   "source": [
    "def nilai(m,n):\n",
    "    if(m%n==0):\n",
    "        return True\n",
    "    else:\n",
    "        return False\n",
    "m = int(input(\"Masukan Nilai M :\"))\n",
    "n = int(input(\"Masukan Nilai N :\"))\n",
    "\n",
    "print(nilai(m,n))"
   ]
  },
  {
   "cell_type": "markdown",
   "id": "quarterly-router",
   "metadata": {},
   "source": [
    "## No.2"
   ]
  },
  {
   "cell_type": "code",
   "execution_count": 25,
   "id": "nearby-reservoir",
   "metadata": {},
   "outputs": [
    {
     "name": "stdout",
     "output_type": "stream",
     "text": [
      "========= MENU =========\n",
      "[1] Soup and salad\n",
      "[2] Pasta with meat sauce\n",
      "[3] Chef's special\n",
      "Which number would you like to order? enough\n",
      "\n",
      "\n",
      "Thank you for your order!\n"
     ]
    }
   ],
   "source": [
    "stop = 'enough'\n",
    "\n",
    "while(True):\n",
    "    print(\"========= MENU =========\")\n",
    "    print(\"[1] Soup and salad\")\n",
    "    print(\"[2] Pasta with meat sauce\")\n",
    "    print(\"[3] Chef's special\")\n",
    "        \n",
    "    menu = input(\"Which number would you like to order? \")\n",
    "    print (\"\\n\")\n",
    "\n",
    "    if menu == '1':\n",
    "        print(\"Soup and salad coming right up!\")\n",
    "        print(\"\\n\")\n",
    "    elif menu == '2':\n",
    "        print(\"Pasta with eat sauce coming right up!\")\n",
    "        print(\"\\n\")\n",
    "    elif menu == '3':\n",
    "        print(\"Chef's special coming right up!\")\n",
    "        print(\"\\n\")\n",
    "    elif menu == stop:\n",
    "        print(\"Thank you for your order!\")\n",
    "        break\n",
    "    else:\n",
    "        print(\"Sorry, that is not a valid choice.\")"
   ]
  },
  {
   "cell_type": "markdown",
   "id": "charitable-conservation",
   "metadata": {},
   "source": [
    "## No.3"
   ]
  },
  {
   "cell_type": "code",
   "execution_count": 33,
   "id": "consistent-million",
   "metadata": {},
   "outputs": [
    {
     "name": "stdout",
     "output_type": "stream",
     "text": [
      "Masukan Nilai X : 4\n",
      "True\n"
     ]
    }
   ],
   "source": [
    "def hasil():\n",
    "    int(input(\"Masukan Nilai X : \"))\n",
    "    if(x%3==0):\n",
    "        return True\n",
    "    else:\n",
    "        return False\n",
    "\n",
    "\n",
    "print(hasil())"
   ]
  },
  {
   "cell_type": "markdown",
   "id": "neither-persian",
   "metadata": {},
   "source": [
    "## No.4"
   ]
  },
  {
   "cell_type": "code",
   "execution_count": 42,
   "id": "split-messenger",
   "metadata": {},
   "outputs": [
    {
     "name": "stdout",
     "output_type": "stream",
     "text": [
      "Masukan Nilai M :2\n",
      "Masukan Nilai N :3\n",
      "True\n"
     ]
    }
   ],
   "source": [
    "def nilai(m,n):\n",
    "    if(m is not n):\n",
    "        return True\n",
    "    else:\n",
    "        return False\n",
    "m = int(input(\"Masukan Nilai M :\"))\n",
    "n = int(input(\"Masukan Nilai N :\"))\n",
    "\n",
    "print(nilai(m,n))"
   ]
  },
  {
   "cell_type": "markdown",
   "id": "committed-scanner",
   "metadata": {},
   "source": [
    "## No.5"
   ]
  },
  {
   "cell_type": "code",
   "execution_count": 66,
   "id": "compliant-vehicle",
   "metadata": {},
   "outputs": [
    {
     "name": "stdout",
     "output_type": "stream",
     "text": [
      "Enter your name: opung\n",
      "Your name is opung\n"
     ]
    }
   ],
   "source": [
    "def ask_name():\n",
    "    name = input(\"Enter your name: \")\n",
    "    print(\"Your name is\", name)\n",
    "ask_name()"
   ]
  },
  {
   "cell_type": "code",
   "execution_count": null,
   "id": "municipal-subsection",
   "metadata": {},
   "outputs": [],
   "source": []
  }
 ],
 "metadata": {
  "kernelspec": {
   "display_name": "Python 3",
   "language": "python",
   "name": "python3"
  },
  "language_info": {
   "codemirror_mode": {
    "name": "ipython",
    "version": 3
   },
   "file_extension": ".py",
   "mimetype": "text/x-python",
   "name": "python",
   "nbconvert_exporter": "python",
   "pygments_lexer": "ipython3",
   "version": "3.9.2"
  }
 },
 "nbformat": 4,
 "nbformat_minor": 5
}
