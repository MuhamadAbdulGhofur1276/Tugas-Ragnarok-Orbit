{
 "cells": [
  {
   "cell_type": "code",
   "execution_count": 3,
   "id": "weekly-prince",
   "metadata": {},
   "outputs": [],
   "source": [
    "import numpy as np"
   ]
  },
  {
   "cell_type": "code",
   "execution_count": 4,
   "id": "cardiovascular-tenant",
   "metadata": {},
   "outputs": [],
   "source": [
    "A = np.array([[1, 2], [7,8]])\n",
    "B = np.array([[3, 5], [1,6]])"
   ]
  },
  {
   "cell_type": "code",
   "execution_count": 12,
   "id": "beginning-trunk",
   "metadata": {},
   "outputs": [
    {
     "name": "stdout",
     "output_type": "stream",
     "text": [
      "Matriks A :\n",
      "[[1 2]\n",
      " [7 8]]\n",
      "\n",
      "Matriks B :\n",
      "[[3 5]\n",
      " [1 6]]\n"
     ]
    }
   ],
   "source": [
    "print(\"Matriks A :\")\n",
    "print(A)\n",
    "print()\n",
    "print(\"Matriks B :\")\n",
    "print(B)"
   ]
  },
  {
   "cell_type": "markdown",
   "id": "little-change",
   "metadata": {},
   "source": [
    "### 1. 2*A"
   ]
  },
  {
   "cell_type": "code",
   "execution_count": 48,
   "id": "heated-geography",
   "metadata": {},
   "outputs": [
    {
     "name": "stdout",
     "output_type": "stream",
     "text": [
      "[[ 2  4]\n",
      " [14 16]]\n"
     ]
    }
   ],
   "source": [
    "Perkalian = 2*A\n",
    "print(Perkalian)"
   ]
  },
  {
   "cell_type": "markdown",
   "id": "latest-relationship",
   "metadata": {},
   "source": [
    "### 2. 2+A"
   ]
  },
  {
   "cell_type": "code",
   "execution_count": 49,
   "id": "intense-scale",
   "metadata": {},
   "outputs": [
    {
     "name": "stdout",
     "output_type": "stream",
     "text": [
      "[[ 3  4]\n",
      " [ 9 10]]\n"
     ]
    }
   ],
   "source": [
    "Penjumlahan = 2+A\n",
    "print(Penjumlahan)"
   ]
  },
  {
   "cell_type": "markdown",
   "id": "subsequent-seventh",
   "metadata": {},
   "source": [
    "### 3. A+B"
   ]
  },
  {
   "cell_type": "code",
   "execution_count": 50,
   "id": "timely-authorization",
   "metadata": {},
   "outputs": [
    {
     "name": "stdout",
     "output_type": "stream",
     "text": [
      "[[ 4  7]\n",
      " [ 8 14]]\n"
     ]
    }
   ],
   "source": [
    "Penjumlahan_Matriks = A+B\n",
    "print(Penjumlahan_Matriks)"
   ]
  },
  {
   "cell_type": "markdown",
   "id": "tight-wichita",
   "metadata": {},
   "source": [
    "### 4. A-B"
   ]
  },
  {
   "cell_type": "code",
   "execution_count": 51,
   "id": "heard-spoke",
   "metadata": {},
   "outputs": [
    {
     "name": "stdout",
     "output_type": "stream",
     "text": [
      "[[-2 -3]\n",
      " [ 6  2]]\n"
     ]
    }
   ],
   "source": [
    "Penjumlahan_Matriks = A-B\n",
    "print(Penjumlahan_Matriks)"
   ]
  },
  {
   "cell_type": "markdown",
   "id": "floral-reading",
   "metadata": {},
   "source": [
    "### 5. determinan A"
   ]
  },
  {
   "cell_type": "code",
   "execution_count": 52,
   "id": "official-circle",
   "metadata": {},
   "outputs": [
    {
     "name": "stdout",
     "output_type": "stream",
     "text": [
      "determinan matriks A =  -6.0\n"
     ]
    }
   ],
   "source": [
    "print('determinan matriks A = ', np.linalg.det(A))"
   ]
  },
  {
   "cell_type": "markdown",
   "id": "coordinate-regular",
   "metadata": {},
   "source": [
    "### 6. invers dari B, simpan jadi matriks D"
   ]
  },
  {
   "cell_type": "code",
   "execution_count": 53,
   "id": "controlled-marker",
   "metadata": {},
   "outputs": [
    {
     "name": "stdout",
     "output_type": "stream",
     "text": [
      "[[ 0.46153846 -0.38461538]\n",
      " [-0.07692308  0.23076923]]\n"
     ]
    }
   ],
   "source": [
    "D = np.linalg.inv(B)\n",
    "print(D)"
   ]
  },
  {
   "cell_type": "markdown",
   "id": "italian-reggae",
   "metadata": {},
   "source": [
    "### 7. transpose D"
   ]
  },
  {
   "cell_type": "code",
   "execution_count": 54,
   "id": "light-comfort",
   "metadata": {},
   "outputs": [
    {
     "name": "stdout",
     "output_type": "stream",
     "text": [
      "[[ 0.46153846 -0.07692308]\n",
      " [-0.38461538  0.23076923]]\n"
     ]
    }
   ],
   "source": [
    "Trans_D = np.transpose(D)\n",
    "print(Trans_D)"
   ]
  },
  {
   "cell_type": "markdown",
   "id": "sonic-migration",
   "metadata": {},
   "source": [
    "### 8. nilai eigen dan vektor eigen dari A dan B"
   ]
  },
  {
   "cell_type": "code",
   "execution_count": 55,
   "id": "least-compiler",
   "metadata": {},
   "outputs": [
    {
     "name": "stdout",
     "output_type": "stream",
     "text": [
      "Nilai Eigen Matriks A =  [-0.62347538  9.62347538]\n",
      "Nilai Eigen Matriks B =  [1.8074176 7.1925824]\n"
     ]
    }
   ],
   "source": [
    "print('Nilai Eigen Matriks A = ', np.linalg.eig(A)[0])\n",
    "print('Nilai Eigen Matriks B = ', np.linalg.eig(B)[0])"
   ]
  },
  {
   "cell_type": "code",
   "execution_count": 56,
   "id": "substantial-airplane",
   "metadata": {},
   "outputs": [
    {
     "name": "stdout",
     "output_type": "stream",
     "text": [
      "Vektor Eigen Matriks A =  [[-0.77640358 -0.22592838]\n",
      " [ 0.63023605 -0.97414391]]\n",
      "Vektor Eigen Matriks A =  [[-0.97271381 -0.76626443]\n",
      " [ 0.23200828 -0.64252535]]\n"
     ]
    }
   ],
   "source": [
    "print('Vektor Eigen Matriks A = ', np.linalg.eig(A)[1])\n",
    "print('Vektor Eigen Matriks A = ', np.linalg.eig(B)[1])"
   ]
  },
  {
   "cell_type": "markdown",
   "id": "appointed-function",
   "metadata": {},
   "source": [
    "### 9. Apa perbedaan dari B*D (perkalian antar entry di B dan D) dan BD (perkalian matriks B dan D)?"
   ]
  },
  {
   "cell_type": "code",
   "execution_count": 57,
   "id": "expanded-precipitation",
   "metadata": {},
   "outputs": [
    {
     "name": "stdout",
     "output_type": "stream",
     "text": [
      "Perkalian Entry\n",
      "[[ 1.38461538 -1.92307692]\n",
      " [-0.07692308  1.38461538]]\n"
     ]
    }
   ],
   "source": [
    "perkalian_entry = B*D\n",
    "print(\"Perkalian Entry\")\n",
    "print(perkalian_entry)"
   ]
  },
  {
   "cell_type": "code",
   "execution_count": 58,
   "id": "existing-effort",
   "metadata": {},
   "outputs": [
    {
     "name": "stdout",
     "output_type": "stream",
     "text": [
      "Perkalian Matriks\n",
      "[[ 1.00000000e+00 -1.11022302e-16]\n",
      " [ 1.11022302e-16  1.00000000e+00]]\n"
     ]
    }
   ],
   "source": [
    "print('Perkalian Matriks')\n",
    "perkalian_matriks = np.matmul(B,D)\n",
    "print(perkalian_matriks)"
   ]
  },
  {
   "cell_type": "code",
   "execution_count": 59,
   "id": "opposite-personality",
   "metadata": {},
   "outputs": [
    {
     "name": "stdout",
     "output_type": "stream",
     "text": [
      "Perkalian Entry\t:\n",
      "[[ 1.38461538 -1.92307692]\n",
      " [-0.07692308  1.38461538]]\n",
      "\n",
      "Perkalian Matriks :\n",
      "[[ 1.00000000e+00 -1.11022302e-16]\n",
      " [ 1.11022302e-16  1.00000000e+00]]\n"
     ]
    }
   ],
   "source": [
    "print(\"Perkalian Entry\\t:\")\n",
    "print(perkalian_entry)\n",
    "print()\n",
    "print('Perkalian Matriks :')\n",
    "print(perkalian_matriks)"
   ]
  },
  {
   "cell_type": "markdown",
   "id": "assigned-automation",
   "metadata": {},
   "source": [
    "#### Kesimpulan : Perbedaan pada perkalian entry dan perkalian matriks yaitu terletak pada hasilnya berbeda dan proses perhitungannyapun berbeda."
   ]
  }
 ],
 "metadata": {
  "kernelspec": {
   "display_name": "Python 3",
   "language": "python",
   "name": "python3"
  },
  "language_info": {
   "codemirror_mode": {
    "name": "ipython",
    "version": 3
   },
   "file_extension": ".py",
   "mimetype": "text/x-python",
   "name": "python",
   "nbconvert_exporter": "python",
   "pygments_lexer": "ipython3",
   "version": "3.9.2"
  }
 },
 "nbformat": 4,
 "nbformat_minor": 5
}
