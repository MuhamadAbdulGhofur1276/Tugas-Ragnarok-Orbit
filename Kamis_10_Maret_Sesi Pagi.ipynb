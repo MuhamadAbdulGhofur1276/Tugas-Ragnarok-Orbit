{
 "cells": [
  {
   "cell_type": "code",
   "execution_count": 2,
   "id": "controversial-medicine",
   "metadata": {},
   "outputs": [],
   "source": [
    "#Import all library needed\n",
    "\n",
    "import matplotlib.pyplot as plt\n",
    "import pandas as pd\n",
    "import seaborn as sns\n",
    "import numpy as np\n",
    "from scipy import stats"
   ]
  },
  {
   "cell_type": "markdown",
   "id": "cosmetic-drain",
   "metadata": {},
   "source": [
    "### Diketahui data penilaian pelanggan saat macet dan tidak macet sebagai berikut (dalam skala 5)\n",
    "\n"
   ]
  },
  {
   "cell_type": "markdown",
   "id": "portuguese-anniversary",
   "metadata": {},
   "source": [
    "#### macet = [2, 3, 5, 4, 5, 4, 4, 3, 4, 3, 4, 5, 4, 5, 4, 3, 4, 3, 3, 5, 4, 3, 4, 3, 4, 3, 4, 4, 5] "
   ]
  },
  {
   "cell_type": "markdown",
   "id": "pediatric-ambassador",
   "metadata": {},
   "source": [
    "#### tidak macet = [2, 2, 4, 5, 4, 3, 3, 3, 3, 3, 3, 4, 4, 5, 4, 3, 3, 2, 3, 4, 4, 3, 3, 3, 4, 3, 4, 3, 4]"
   ]
  },
  {
   "cell_type": "code",
   "execution_count": 5,
   "id": "tested-elite",
   "metadata": {},
   "outputs": [],
   "source": [
    "# data\n",
    "macet = [2, 3, 5, 4, 5, 4, 4, 3, 4, 3, 4, 5, 4, 5, 4, 3, 4, 3, 3, 5, 4, 3, 4, 3, 4, 3, 4, 4, 5] \n",
    "tidak_macet = [2, 2, 4, 5, 4, 3, 3, 3, 3, 3, 3, 4, 4, 5, 4, 3, 3, 2, 3, 4, 4, 3, 3, 3, 4, 3, 4, 3, 4]"
   ]
  },
  {
   "cell_type": "code",
   "execution_count": 8,
   "id": "automotive-globe",
   "metadata": {},
   "outputs": [
    {
     "data": {
      "text/plain": [
       "29"
      ]
     },
     "execution_count": 8,
     "metadata": {},
     "output_type": "execute_result"
    }
   ],
   "source": [
    "len(macet)"
   ]
  },
  {
   "cell_type": "code",
   "execution_count": 9,
   "id": "known-metabolism",
   "metadata": {},
   "outputs": [
    {
     "data": {
      "text/plain": [
       "29"
      ]
     },
     "execution_count": 9,
     "metadata": {},
     "output_type": "execute_result"
    }
   ],
   "source": [
    "len(tidak_macet)"
   ]
  },
  {
   "cell_type": "markdown",
   "id": "heavy-fight",
   "metadata": {},
   "source": [
    "### 1. Buat Hipotesis"
   ]
  },
  {
   "cell_type": "markdown",
   "id": "royal-puppy",
   "metadata": {},
   "source": [
    "#### Ho = Macet mempengaruhi kepuasan pelanggan"
   ]
  },
  {
   "cell_type": "markdown",
   "id": "precious-tolerance",
   "metadata": {},
   "source": [
    "#### Ha = Macet tidak mempengaruhi kepuasan pelanggan"
   ]
  },
  {
   "cell_type": "markdown",
   "id": "paperback-brick",
   "metadata": {},
   "source": [
    "### 2. Lakukan uji asumsi normalitasnya"
   ]
  },
  {
   "cell_type": "code",
   "execution_count": 16,
   "id": "judicial-competition",
   "metadata": {},
   "outputs": [
    {
     "name": "stderr",
     "output_type": "stream",
     "text": [
      "c:\\users\\muhamad abdul ghofur\\opencv\\lib\\site-packages\\seaborn\\distributions.py:2557: FutureWarning: `distplot` is a deprecated function and will be removed in a future version. Please adapt your code to use either `displot` (a figure-level function with similar flexibility) or `histplot` (an axes-level function for histograms).\n",
      "  warnings.warn(msg, FutureWarning)\n"
     ]
    },
    {
     "data": {
      "text/plain": [
       "Text(0.5, 1.0, 'Macet')"
      ]
     },
     "execution_count": 16,
     "metadata": {},
     "output_type": "execute_result"
    },
    {
     "data": {
      "image/png": "[encoded data removed]",
      "text/plain": [
       "<Figure size 432x288 with 1 Axes>"
      ]
     },
     "metadata": {
      "needs_background": "light"
     },
     "output_type": "display_data"
    }
   ],
   "source": [
    "sns.distplot(macet)\n",
    "plt.title(\"Macet\")"
   ]
  },
  {
   "cell_type": "code",
   "execution_count": 15,
   "id": "neither-groove",
   "metadata": {},
   "outputs": [
    {
     "name": "stderr",
     "output_type": "stream",
     "text": [
      "c:\\users\\muhamad abdul ghofur\\opencv\\lib\\site-packages\\seaborn\\distributions.py:2557: FutureWarning: `distplot` is a deprecated function and will be removed in a future version. Please adapt your code to use either `displot` (a figure-level function with similar flexibility) or `histplot` (an axes-level function for histograms).\n",
      "  warnings.warn(msg, FutureWarning)\n"
     ]
    },
    {
     "data": {
      "text/plain": [
       "Text(0.5, 1.0, 'Tidak Macet')"
      ]
     },
     "execution_count": 15,
     "metadata": {},
     "output_type": "execute_result"
    },
    {
     "data": {
      "image/png": "[encoded data removed]",
      "text/plain": [
       "<Figure size 432x288 with 1 Axes>"
      ]
     },
     "metadata": {
      "needs_background": "light"
     },
     "output_type": "display_data"
    }
   ],
   "source": [
    "sns.distplot(tidak_macet)\n",
    "plt.title(\"Tidak Macet\")"
   ]
  },
  {
   "cell_type": "code",
   "execution_count": 17,
   "id": "varying-houston",
   "metadata": {},
   "outputs": [
    {
     "name": "stdout",
     "output_type": "stream",
     "text": [
      "uji kolmogorov smirnov data A =  KstestResult(statistic=0.2414618941043637, pvalue=0.056685222453497386)\n",
      "uji kolmogorov smirnov data B =  KstestResult(statistic=0.2769460572882385, pvalue=0.018550502658514656)\n"
     ]
    }
   ],
   "source": [
    "#Uji Kolmogorov-Smirnov\n",
    "#Type your code here\n",
    "z_score_macet = stats.zscore(macet)\n",
    "z_score_tidak_macet = stats.zscore(tidak_macet)\n",
    "print('uji kolmogorov smirnov data A = ', stats.kstest(z_score_macet, \"norm\"))\n",
    "print('uji kolmogorov smirnov data B = ', stats.kstest(z_score_tidak_macet, \"norm\"))"
   ]
  },
  {
   "cell_type": "markdown",
   "id": "close-telescope",
   "metadata": {},
   "source": [
    "- alpha = 0.05\n",
    "- Data macet, p-value = 0.0566 (> alpha) Ho diterima (datanya berdistribusi normal)\n",
    "- Data tidak_macet, p-value = 0.0185 (< alpha) Ho ditolak (datanya tidak berdistribusi normal)"
   ]
  },
  {
   "cell_type": "markdown",
   "id": "vocational-shark",
   "metadata": {},
   "source": [
    "### 3. Jika datanya normal lakukan uji parametrik, jika tidak berdistribusi normal lakukan uji nonparametrik"
   ]
  },
  {
   "cell_type": "code",
   "execution_count": 21,
   "id": "inclusive-piano",
   "metadata": {},
   "outputs": [
    {
     "data": {
      "text/plain": [
       "KruskalResult(statistic=4.330554079959359, pvalue=0.03743405824475144)"
      ]
     },
     "execution_count": 21,
     "metadata": {},
     "output_type": "execute_result"
    }
   ],
   "source": [
    "stats.kruskal(macet, tidak_macet)"
   ]
  },
  {
   "cell_type": "markdown",
   "id": "psychological-brief",
   "metadata": {},
   "source": [
    "### 4. Apa kesimpulan uji hipotesisnya?"
   ]
  },
  {
   "cell_type": "markdown",
   "id": "regular-overall",
   "metadata": {},
   "source": [
    "- alpha = 0.05\n",
    "- p-value = 0.0374 (< alpha) Ho ditolak (datanya tidak berdistribusi normal)\n",
    "- kemacetak tidak mempengaruhi kepuasan pelanggan"
   ]
  }
 ],
 "metadata": {
  "kernelspec": {
   "display_name": "Python 3",
   "language": "python",
   "name": "python3"
  },
  "language_info": {
   "codemirror_mode": {
    "name": "ipython",
    "version": 3
   },
   "file_extension": ".py",
   "mimetype": "text/x-python",
   "name": "python",
   "nbconvert_exporter": "python",
   "pygments_lexer": "ipython3",
   "version": "3.9.2"
  }
 },
 "nbformat": 4,
 "nbformat_minor": 5
}
