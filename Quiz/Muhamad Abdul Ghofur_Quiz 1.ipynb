{
 "cells": [
  {
   "cell_type": "markdown",
   "id": "classical-focus",
   "metadata": {},
   "source": [
    "## Python OOP"
   ]
  },
  {
   "cell_type": "markdown",
   "id": "defined-tucson",
   "metadata": {},
   "source": [
    "## 1. OOP adalah suatu paradigma pemrograman yang berorientasi pada konsep class (kelas) dan object (objek). Konsep ini sering kali digunakan dalam menyusun aplikasi menjadi kode yang sederhana dan dapat digunakan kembali (reuseable)."
   ]
  },
  {
   "cell_type": "markdown",
   "id": "announced-custom",
   "metadata": {},
   "source": [
    "### Encapsulation"
   ]
  },
  {
   "cell_type": "code",
   "execution_count": 4,
   "id": "blessed-optics",
   "metadata": {},
   "outputs": [
    {
     "name": "stdout",
     "output_type": "stream",
     "text": [
      "===== Info Baju =====\n",
      "\n",
      "Merk\t: 3 Second \n",
      "Harga\t: 70000 Rupiah \n",
      "Ukuran\t: M \n",
      "Jenis\t: Kaos Polos\n",
      "Kaos Polos Kualitas terbaik\n",
      "harga terbaik\n",
      "\n",
      "=====================\n"
     ]
    }
   ],
   "source": [
    "class baju(object):\n",
    "    \n",
    "    merk_Baju = \"\"\n",
    "    def __init__(self, input_merk, input_harga, input_ukuran, input_jenis):\n",
    "        self.merk = input_merk\n",
    "        self.harga = input_harga\n",
    "        self.ukuran = input_ukuran\n",
    "        self.jenis = input_jenis\n",
    "\n",
    "    def baju(self):\n",
    "        print(self.jenis, \"Kualitas terbaik\\nharga terbaik\")\n",
    "\n",
    "    def info(self):\n",
    "        print(f\"Merk\\t: {self.merk} \\nHarga\\t: {self.harga} Rupiah \\nUkuran\\t: {self.ukuran} \\nJenis\\t: {self.jenis}\")\n",
    "\n",
    "\n",
    "baju1 = baju(\"3 Second\", 70000, \"M\", \"Kaos Polos\")\n",
    "print(\"===== Info Baju =====\")\n",
    "print()\n",
    "baju1.info()\n",
    "baju1.baju()\n",
    "print()\n",
    "print(\"=====================\")"
   ]
  },
  {
   "cell_type": "markdown",
   "id": "automatic-township",
   "metadata": {},
   "source": [
    "### Abstraction"
   ]
  },
  {
   "cell_type": "code",
   "execution_count": 6,
   "id": "touched-palmer",
   "metadata": {},
   "outputs": [],
   "source": [
    "from abc import abstractmethod, ABC"
   ]
  },
  {
   "cell_type": "code",
   "execution_count": 13,
   "id": "charitable-graphic",
   "metadata": {},
   "outputs": [
    {
     "name": "stdout",
     "output_type": "stream",
     "text": [
      "===== Info Baju =====\n",
      "\n",
      "Baju Berikut Berjenis :\n",
      "Kaos Polos\n",
      "Baju Berikut Berjenis :\n",
      "Kemeja Batik\n",
      "\n",
      "=====================\n"
     ]
    }
   ],
   "source": [
    "class pakaian(ABC):\n",
    "    \n",
    "    @abstractmethod\n",
    "    def jenis(self):\n",
    "        pass\n",
    "    \n",
    "class baju(pakaian):\n",
    "    def jenis(self):\n",
    "        print(\"Kaos Polos\")\n",
    "        \n",
    "class baju2(pakaian):\n",
    "    def jenis(self):\n",
    "        print(\"Kemeja Batik\")\n",
    "\n",
    "print(\"===== Info Baju =====\")\n",
    "print()\n",
    "baju1 = baju()\n",
    "baju2 = baju2()\n",
    "print(\"Baju Berikut Berjenis :\")\n",
    "baju1.jenis()\n",
    "print(\"Baju Berikut Berjenis :\")\n",
    "baju2.jenis()\n",
    "print()\n",
    "print(\"=====================\")"
   ]
  },
  {
   "cell_type": "markdown",
   "id": "fleet-bennett",
   "metadata": {},
   "source": [
    "## 2. dua jenis modules pada python\n",
    "- Module Math digunakan untuk perhitungan matematika\n",
    "- Module Time digunakan untuk mengatahui waktu baik berpa jam, tanggal, hari dan tahun"
   ]
  },
  {
   "cell_type": "markdown",
   "id": "acting-midnight",
   "metadata": {},
   "source": [
    "## 3. hitunglah"
   ]
  },
  {
   "cell_type": "code",
   "execution_count": 23,
   "id": "cloudy-flash",
   "metadata": {},
   "outputs": [
    {
     "name": "stdout",
     "output_type": "stream",
     "text": [
      "13.228756555322953 + 10.583005244258363 + 0.3333333333333333 + 4.0 = 28.145095132914648\n"
     ]
    }
   ],
   "source": [
    "import math\n",
    "\n",
    "a = math.sqrt(175)\n",
    "b = math.sqrt(7)*4\n",
    "c = 1/3\n",
    "d = math.log(81,3)\n",
    "\n",
    "hasil = a + b + c + d\n",
    "print(a,\"+\",b,\"+\",c,\"+\",d,\"=\",hasil)"
   ]
  },
  {
   "cell_type": "markdown",
   "id": "compliant-carpet",
   "metadata": {},
   "source": [
    "## 4. Custom exception handling dgunakan untuk memberikan alternatif pada program agar tetap bisa berjalan walaupun ada error pada program tersebut"
   ]
  },
  {
   "cell_type": "code",
   "execution_count": 29,
   "id": "qualified-wireless",
   "metadata": {},
   "outputs": [
    {
     "name": "stdout",
     "output_type": "stream",
     "text": [
      "Masukkan angka pertama: 3\n",
      "Masukkan angka kedua: 0\n",
      "Tidak bisa, pembagian angka dengan 0\n"
     ]
    }
   ],
   "source": [
    "a = int(input(\"Masukkan angka pertama: \"))\n",
    "b = int(input(\"Masukkan angka kedua: \"))\n",
    "\n",
    "try:\n",
    "    hasil = a/b\n",
    "except:\n",
    "    print(\"Tidak bisa, pembagian angka dengan 0\")\n",
    "else:\n",
    "    print(\"Hasil dari A bagi B = \", hasil)"
   ]
  },
  {
   "cell_type": "markdown",
   "id": "several-chrome",
   "metadata": {},
   "source": [
    "# Artificial Intelegent"
   ]
  },
  {
   "cell_type": "markdown",
   "id": "altered-crime",
   "metadata": {},
   "source": [
    "## 1.perbedaan struktur dan unstructured data\n",
    "- Perbedaan utamanya yaitu data terstruktur dapat dinyatakan dalam baris dan kolom dan database relational. Sementara data tidak terstruktur tidak dapat ditampilkan dalam baris dan kolom.\n",
    "\n",
    "- sumber data terstruktur : data penjualan, data karyawan, data mahasiswa.\n",
    "- sumber data tidak terstruktur : gambar satelit, data ilmiah dan data sensor."
   ]
  },
  {
   "cell_type": "markdown",
   "id": "hollywood-impossible",
   "metadata": {},
   "source": [
    "## 2. perbedaan AI, machine learning dan deep learning\n",
    "- AI adalah suatu teknologi yang dapat membuat suatu komputer memiliki kecerdasan manusia\n",
    "- Machine Learning adalah bagian dari implementasi AI dimana kita memberikan data kepada mesin untuk dipelajari agar mesin dapat membuat suatu proses dan mesin dapat bekerja mandiri \n",
    "- Deep learning adalah bagian dari machine learnng yang berfokus pada salah satu algoritma yang ada pada machine learning"
   ]
  },
  {
   "cell_type": "markdown",
   "id": "checked-blank",
   "metadata": {},
   "source": [
    "## 3. Perbedaan ML dan traditional software\n",
    "- Machine learning mengolah data menjadi suatu proses atau aturan sedangkan traditional software mengolah data menghasilkan suatu hasil bukan proses/aturan."
   ]
  },
  {
   "cell_type": "markdown",
   "id": "beginning-titanium",
   "metadata": {},
   "source": [
    "## 4. 3 Contoh Machine Learning dalam Smart city dan agriculture\n",
    "#### Smart City\n",
    "- E-tilang\n",
    "- Face Recognization\n",
    "- Sign Recognization\n",
    "#### Agriculture\n",
    "- Deteksi kualitas beras\n",
    "- Prediksi hasil panen\n",
    "- Prediksi resiko panen"
   ]
  },
  {
   "cell_type": "markdown",
   "id": "rolled-madrid",
   "metadata": {},
   "source": [
    "# Math for AI"
   ]
  },
  {
   "cell_type": "markdown",
   "id": "short-oakland",
   "metadata": {},
   "source": [
    "## 1. Karena pada dasarnya algoritma AI berbasis matematika dan statistika, jadi belajar matematika merupakan kemampuan dasar untuk mempelajari AI"
   ]
  },
  {
   "cell_type": "markdown",
   "id": "stylish-juice",
   "metadata": {},
   "source": [
    "## 2. Perbedaan vektor dan skalar\n",
    "- vektor memiliki nilai dan arah\n",
    "- skalar hanya memiliki nilai"
   ]
  },
  {
   "cell_type": "markdown",
   "id": "ecological-computer",
   "metadata": {},
   "source": [
    "## 3. perbedaan euclidean dan manhatan \n",
    "- Euclidean adalah jalur terpendek antara sumber dan tujuan yang berupa garis lurus.\n",
    "- Manhatan adalah jumlah dari semua jarak anatara sumber dan tujuan dan setiap jarak selalu berupagaris lurus."
   ]
  },
  {
   "cell_type": "markdown",
   "id": "quiet-amendment",
   "metadata": {},
   "source": [
    "## 4. Matrik digunakan untuk komputer agar dapat mengenali dan mengedit suatu objek yang diberikan."
   ]
  },
  {
   "cell_type": "markdown",
   "id": "promotional-writing",
   "metadata": {},
   "source": [
    "# Machine Learning"
   ]
  },
  {
   "cell_type": "markdown",
   "id": "black-eclipse",
   "metadata": {},
   "source": [
    "## 1. Supervised itu data memiliki label sehingga diketahaui kelas kelasnya sedangka Unsupervised mesin diminta untuk belajar sendiri tanpa diketahui label kelasnya"
   ]
  },
  {
   "cell_type": "markdown",
   "id": "studied-mortgage",
   "metadata": {},
   "source": [
    "## 2. Problem Scoping, Data Acquistion, Data Exploration, Modeling, Evaluation dan Deployment."
   ]
  },
  {
   "cell_type": "markdown",
   "id": "grand-superintendent",
   "metadata": {},
   "source": [
    "## 3. Regression digunakan untuk memprediksi suatu objek random sedangkan clustering menentukan kelassuatu objek random"
   ]
  },
  {
   "cell_type": "markdown",
   "id": "focused-flooring",
   "metadata": {},
   "source": [
    "## 4. Algoritma Artificial Neural Network adalah  model penalaran yang didasarkan pada otak manusia. ANN terdiri dari sejumlah prosesor sangat sederhana dan saling berhubungan yang disebut neuron. Neuron yang terhubung dengan pembobotan (weight) melewatisinyal dari neuron satu ke neuron yang lain.\n",
    "\n",
    "## Fungsinya untuk megatasi permasalahan klasifikasi ataupun prediksi."
   ]
  },
  {
   "cell_type": "code",
   "execution_count": null,
   "id": "vietnamese-order",
   "metadata": {},
   "outputs": [],
   "source": []
  }
 ],
 "metadata": {
  "kernelspec": {
   "display_name": "Python 3",
   "language": "python",
   "name": "python3"
  },
  "language_info": {
   "codemirror_mode": {
    "name": "ipython",
    "version": 3
   },
   "file_extension": ".py",
   "mimetype": "text/x-python",
   "name": "python",
   "nbconvert_exporter": "python",
   "pygments_lexer": "ipython3",
   "version": "3.9.2"
  }
 },
 "nbformat": 4,
 "nbformat_minor": 5
}
